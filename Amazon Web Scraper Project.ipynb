{
 "cells": [
  {
   "cell_type": "code",
   "execution_count": 1,
   "id": "b8862e0d",
   "metadata": {},
   "outputs": [],
   "source": [
    "# Importing Libraries\n",
    "\n",
    "from bs4 import BeautifulSoup\n",
    "import requests\n",
    "import time\n",
    "import datetime\n",
    "\n",
    "import smtplib"
   ]
  },
  {
   "cell_type": "code",
   "execution_count": 2,
   "id": "222fb6b5",
   "metadata": {},
   "outputs": [
    {
     "name": "stdout",
     "output_type": "stream",
     "text": [
      "\n",
      "                   Never Forget Retro Vintage Cassette Tape Graphic Novelty Mens Funny T Shirt\n",
      "                  \n",
      "\n",
      "                      $14.99\n",
      "                     \n"
     ]
    }
   ],
   "source": [
    "# Connecting to Amazon T-shirt page and pulling in data\n",
    "\n",
    "URL = 'https://www.amazon.com/Never-Forget-Funny-Novelty-Charcoal/dp/B00NMFDE3K/ref=sr_1_9?crid=1KDC3Q7J18GA4&keywords=got+data+tshirt&qid=1662492641&sprefix=got+data+%2Caps%2C177&sr=8-9'\n",
    "\n",
    "headers = {\"User-Agent\": \"Mozilla/5.0 (Windows NT 10.0; Win64; x64) AppleWebKit/537.36 (KHTML, like Gecko) Chrome/105.0.0.0 Safari/537.36 Edg/105.0.1343.27\", \"Accept-Encoding\":\"gzip, deflate\", \"Accept\":\"text/html,application/xhtml+xml,application/xml;q=0.9,*/*;q=0.8\", \"DNT\":\"1\",\"Connection\":\"close\", \"Upgrade-Insecure-Requests\":\"1\"}\n",
    "\n",
    "page = requests.get(URL, headers=headers)\n",
    "\n",
    "soup1 = BeautifulSoup(page.content, \"html.parser\")\n",
    "\n",
    "soup2 = BeautifulSoup(soup1.prettify(), \"html.parser\")\n",
    "\n",
    "title = soup2.find(id='productTitle').string\n",
    "\n",
    "price = soup2.find(class_='a-offscreen').string\n",
    "\n",
    "print(title)\n",
    "print(price)"
   ]
  },
  {
   "cell_type": "code",
   "execution_count": 3,
   "id": "56815622",
   "metadata": {},
   "outputs": [
    {
     "name": "stdout",
     "output_type": "stream",
     "text": [
      "Never Forget Retro Vintage Cassette Tape Graphic Novelty Mens Funny T Shirt\n",
      "14.99\n"
     ]
    }
   ],
   "source": [
    "# Cleaning Data\n",
    "\n",
    "price = price.strip()[1:]\n",
    "title = title.strip()\n",
    "\n",
    "print(title)\n",
    "print(price)"
   ]
  },
  {
   "cell_type": "code",
   "execution_count": 4,
   "id": "745814e1",
   "metadata": {},
   "outputs": [
    {
     "name": "stdout",
     "output_type": "stream",
     "text": [
      "2022-09-06\n"
     ]
    }
   ],
   "source": [
    "# Creating a Timestamp for your output to track when data was collected\n",
    "\n",
    "import datetime\n",
    "\n",
    "today = datetime.date.today()\n",
    "\n",
    "print(today)"
   ]
  },
  {
   "cell_type": "code",
   "execution_count": 5,
   "id": "0ae2e54c",
   "metadata": {},
   "outputs": [],
   "source": [
    "# Creating CSV and write headers and data into the file\n",
    "\n",
    "import csv \n",
    "\n",
    "header = ['Title', 'Price', 'Date']\n",
    "data = [title, price, today]\n",
    "\n",
    "\n",
    "with open('dataset.csv', 'w', newline='', encoding='UTF8') as f:\n",
    "    writer = csv.writer(f)\n",
    "    writer.writerow(header)\n",
    "    writer.writerow(data)"
   ]
  },
  {
   "cell_type": "code",
   "execution_count": 6,
   "id": "3e426883",
   "metadata": {},
   "outputs": [
    {
     "name": "stdout",
     "output_type": "stream",
     "text": [
      "                                               Title  Price        Date\n",
      "0  Never Forget Retro Vintage Cassette Tape Graph...  14.99  2022-09-06\n"
     ]
    }
   ],
   "source": [
    "# Reading Data from CSV file\n",
    "\n",
    "import pandas as pd\n",
    "\n",
    "df = pd.read_csv(r'C:\\Users\\amine\\OneDrive\\Bureau\\DATA WORKSPACE\\FILES\\Amazon Web Scraper Project\\dataset.csv')\n",
    "\n",
    "print(df)"
   ]
  },
  {
   "cell_type": "code",
   "execution_count": 10,
   "id": "06440c2c",
   "metadata": {},
   "outputs": [],
   "source": [
    "# Appending data to the csv\n",
    "\n",
    "with open('dataset.csv', 'a+', newline='', encoding='UTF8') as f:\n",
    "    writer = csv.writer(f)\n",
    "    writer.writerow(data)"
   ]
  },
  {
   "cell_type": "code",
   "execution_count": 18,
   "id": "13e68343",
   "metadata": {},
   "outputs": [],
   "source": [
    "#Combining all of the above code into one function for Automation\n",
    "\n",
    "\n",
    "def check_price():\n",
    "    URL = 'https://www.amazon.com/Never-Forget-Funny-Novelty-Charcoal/dp/B00NMFDE3K/ref=sr_1_9?crid=1KDC3Q7J18GA4&keywords=got+data+tshirt&qid=1662492641&sprefix=got+data+%2Caps%2C177&sr=8-9'\n",
    "\n",
    "    headers = {\"User-Agent\": \"Mozilla/5.0 (Windows NT 10.0; Win64; x64) AppleWebKit/537.36 (KHTML, like Gecko) Chrome/105.0.0.0 Safari/537.36 Edg/105.0.1343.27\", \"Accept-Encoding\":\"gzip, deflate\", \"Accept\":\"text/html,application/xhtml+xml,application/xml;q=0.9,*/*;q=0.8\", \"DNT\":\"1\",\"Connection\":\"close\", \"Upgrade-Insecure-Requests\":\"1\"}\n",
    "\n",
    "    page = requests.get(URL, headers=headers)\n",
    "\n",
    "    soup1 = BeautifulSoup(page.content, \"html.parser\")\n",
    "\n",
    "    soup2 = BeautifulSoup(soup1.prettify(), \"html.parser\")\n",
    "\n",
    "    title = soup2.find(id='productTitle').get_text()\n",
    "\n",
    "    price = soup2.find(class_='a-offscreen').get_text()\n",
    "\n",
    "    price = price.strip()[1:]\n",
    "    title = title.strip()\n",
    "\n",
    "    import datetime\n",
    "\n",
    "    today = datetime.date.today()\n",
    "    \n",
    "    import csv \n",
    "\n",
    "    header = ['Title', 'Price', 'Date']\n",
    "    data = [title, price, today]\n",
    "\n",
    "    with open('dataset.csv', 'a+', newline='', encoding='UTF8') as f:\n",
    "        writer = csv.writer(f)\n",
    "        writer.writerow(data)\n",
    "        \n",
    "    if(float(price) < 15.00):\n",
    "        send_mail"
   ]
  },
  {
   "cell_type": "code",
   "execution_count": null,
   "id": "9e846b26",
   "metadata": {},
   "outputs": [],
   "source": [
    "# Runing check_price after 24h and inputs data into your CSV\n",
    "\n",
    "while(True):\n",
    "    check_price()\n",
    "    time.sleep(86400)"
   ]
  },
  {
   "cell_type": "code",
   "execution_count": 12,
   "id": "c586f351",
   "metadata": {},
   "outputs": [
    {
     "name": "stdout",
     "output_type": "stream",
     "text": [
      "                                               Title  Price        Date\n",
      "0  Never Forget Retro Vintage Cassette Tape Graph...  14.99  2022-09-06\n",
      "1  Never Forget Retro Vintage Cassette Tape Graph...  14.99  2022-09-06\n",
      "2  Never Forget Retro Vintage Cassette Tape Graph...  14.99  2022-09-06\n",
      "3  Never Forget Retro Vintage Cassette Tape Graph...  14.99  2022-09-06\n",
      "4  Never Forget Retro Vintage Cassette Tape Graph...  14.99  2022-09-06\n"
     ]
    }
   ],
   "source": [
    "# Just to check the result of Timer\n",
    "\n",
    "import pandas as pd\n",
    "\n",
    "df = pd.read_csv(r'C:\\Users\\amine\\OneDrive\\Bureau\\DATA WORKSPACE\\FILES\\Amazon Web Scraper Project\\dataset.csv')\n",
    "\n",
    "print(df)"
   ]
  },
  {
   "cell_type": "code",
   "execution_count": 13,
   "id": "04bdb9c8",
   "metadata": {},
   "outputs": [],
   "source": [
    "# Sending yourself an email when a price hits below a certain level that interests you\n",
    "\n",
    "def send_mail():\n",
    "    server = smtplib.SMTP_SSL('smtp.gmail.com',465)\n",
    "    server.ehlo()\n",
    "    #server.starttls()\n",
    "    server.ehlo()\n",
    "    server.login('smi.s3.sender@gmail.com','XXXXXXXXXXXXXXXX')\n",
    "    \n",
    "    subject = \"The Shirt you want is below $15! Now is your chance to buy!\"\n",
    "    body = \"Ahmad Amine, This is the moment we have been waiting for. Now is your chance to pick up the shirt of your dreams. Don't mess it up! Link here: https://www.amazon.com/Never-Forget-Funny-Novelty-Charcoal/dp/B00NMFDE3K/ref=sr_1_9?crid=1KDC3Q7J18GA4&keywords=got+data+tshirt&qid=1662492641&sprefix=got+data+%2Caps%2C177&sr=8-9\"\n",
    "   \n",
    "    msg = f\"Subject: {subject}\\n\\n{body}\"\n",
    "    \n",
    "    server.sendmail(\n",
    "        'zrouli.aa@gmail.com',\n",
    "        msg\n",
    "     \n",
    "    )"
   ]
  }
 ],
 "metadata": {
  "kernelspec": {
   "display_name": "Python 3 (ipykernel)",
   "language": "python",
   "name": "python3"
  },
  "language_info": {
   "codemirror_mode": {
    "name": "ipython",
    "version": 3
   },
   "file_extension": ".py",
   "mimetype": "text/x-python",
   "name": "python",
   "nbconvert_exporter": "python",
   "pygments_lexer": "ipython3",
   "version": "3.9.12"
  },
  "vscode": {
   "interpreter": {
    "hash": "e4a2e8328773a6df6e31cbd314a205656d9e38512a9cebb7bc9b0bda381f1bb4"
   }
  }
 },
 "nbformat": 4,
 "nbformat_minor": 5
}
